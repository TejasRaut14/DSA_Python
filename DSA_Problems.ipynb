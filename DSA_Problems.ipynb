{
  "nbformat": 4,
  "nbformat_minor": 0,
  "metadata": {
    "colab": {
      "provenance": [],
      "authorship_tag": "ABX9TyPBIacabkRb8C5wQzVMXrdU",
      "include_colab_link": true
    },
    "kernelspec": {
      "name": "python3",
      "display_name": "Python 3"
    },
    "language_info": {
      "name": "python"
    }
  },
  "cells": [
    {
      "cell_type": "markdown",
      "metadata": {
        "id": "view-in-github",
        "colab_type": "text"
      },
      "source": [
        "<a href=\"https://colab.research.google.com/github/TejasRaut14/DSA_Python/blob/main/DSA_Problems.ipynb\" target=\"_parent\"><img src=\"https://colab.research.google.com/assets/colab-badge.svg\" alt=\"Open In Colab\"/></a>"
      ]
    },
    {
      "cell_type": "code",
      "execution_count": null,
      "metadata": {
        "id": "g46Jj6ZubliZ"
      },
      "outputs": [],
      "source": [
        "#Print array after it is right rotated K times"
      ]
    },
    {
      "cell_type": "code",
      "source": [
        "a=[]\n",
        "b=int(input())\n",
        "\n",
        "for i in range(b):\n",
        "  c=int(input())\n",
        "  a.append(c)\n",
        "\n",
        "k=int(input(\"Enter k :-\"))\n",
        "d=a[k:]+a[:k]\n",
        "print(d)\n"
      ],
      "metadata": {
        "colab": {
          "base_uri": "https://localhost:8080/"
        },
        "id": "1je33am6b31J",
        "outputId": "cdf625e3-8deb-463b-88a0-dd83655fb46b"
      },
      "execution_count": null,
      "outputs": [
        {
          "output_type": "stream",
          "name": "stdout",
          "text": [
            "6\n",
            "1\n",
            "2\n",
            "3\n",
            "4\n",
            "5\n",
            "6\n",
            "Enter k :-3\n",
            "[4, 5, 6, 1, 2, 3]\n"
          ]
        }
      ]
    },
    {
      "cell_type": "code",
      "source": [
        "#Non repaeting elemets in array"
      ],
      "metadata": {
        "id": "7yIJ49AqcSss"
      },
      "execution_count": null,
      "outputs": []
    },
    {
      "cell_type": "code",
      "source": [
        "a=input()\n",
        "b=set(a)\n",
        "c=[]\n",
        "\n",
        "for i in b:\n",
        "  if a.count(i)==1:\n",
        "    c.append(i)\n",
        "\n",
        "for i in c:\n",
        "  print(list(set(i)))\n"
      ],
      "metadata": {
        "colab": {
          "base_uri": "https://localhost:8080/"
        },
        "id": "rTL9mr0ycsxS",
        "outputId": "e504f9f7-2386-4786-c0d8-1b751fcb61b0"
      },
      "execution_count": null,
      "outputs": [
        {
          "output_type": "stream",
          "name": "stdout",
          "text": [
            "tell\n",
            "['t']\n",
            "['e']\n"
          ]
        }
      ]
    },
    {
      "cell_type": "code",
      "source": [
        "#Program for array rotation"
      ],
      "metadata": {
        "id": "CwS8kBLwdSsL"
      },
      "execution_count": null,
      "outputs": []
    },
    {
      "cell_type": "code",
      "source": [
        "a=[]\n",
        "b=int(input())\n",
        "\n",
        "for i in range(b):\n",
        "  c=int(input())\n",
        "  a.append(c)\n",
        "\n",
        "reverse=a[::-1]\n",
        "print(reverse)"
      ],
      "metadata": {
        "colab": {
          "base_uri": "https://localhost:8080/"
        },
        "id": "Bj_CKQAyd-cD",
        "outputId": "1e283f5e-9885-4ca2-9589-9576a6d3f3e1"
      },
      "execution_count": null,
      "outputs": [
        {
          "output_type": "stream",
          "name": "stdout",
          "text": [
            "4\n",
            "1\n",
            "2\n",
            "3\n",
            "4\n",
            "[4, 3, 2, 1]\n"
          ]
        }
      ]
    },
    {
      "cell_type": "code",
      "source": [
        "#Equlibrium index of an array"
      ],
      "metadata": {
        "id": "wBN7BQgteT2f"
      },
      "execution_count": null,
      "outputs": []
    },
    {
      "cell_type": "code",
      "source": [
        "a=[]\n",
        "b=int(input())\n",
        "\n",
        "for i in range(b):\n",
        "  c=int(input())\n",
        "  a.append(c)\n",
        "\n",
        "for i in range(len(a)):\n",
        "  d=(sum(a[:i]) ,sum(a[i+1:]))\n",
        "  if (sum(a[:i])==sum(a[i+1:])):\n",
        "    print(i)\n",
        "\n"
      ],
      "metadata": {
        "colab": {
          "base_uri": "https://localhost:8080/"
        },
        "id": "3EOoesFHfPDr",
        "outputId": "b4e3eb40-29c4-4067-ca9c-3b93407c5880"
      },
      "execution_count": null,
      "outputs": [
        {
          "output_type": "stream",
          "name": "stdout",
          "text": [
            "5\n",
            "2\n",
            "3\n",
            "-1\n",
            "8\n",
            "4\n",
            "3\n"
          ]
        }
      ]
    },
    {
      "cell_type": "code",
      "source": [
        "#Array is subset of another array:"
      ],
      "metadata": {
        "id": "kEX8AKIMgWEM"
      },
      "execution_count": null,
      "outputs": []
    },
    {
      "cell_type": "code",
      "source": [
        "a=[]\n",
        "b=int(input())\n",
        "\n",
        "for i in range(b):\n",
        "  c=int(input())\n",
        "  a.append(c)\n",
        "\n",
        "d=[]\n",
        "e=int(input())\n",
        "\n",
        "for j in range((e)):\n",
        "  f=int(input())\n",
        "  d.append(f)\n",
        "\n",
        "t=set(a)\n",
        "u=set(d)\n",
        "\n",
        "if u.issubset(t) :\n",
        "  print(\"yes\")\n",
        "else:\n",
        "  print(\"no\")\n",
        "\n"
      ],
      "metadata": {
        "colab": {
          "base_uri": "https://localhost:8080/"
        },
        "id": "iRFrgL5YhdxU",
        "outputId": "fce02265-2e8e-4597-af41-02dae3c490be"
      },
      "execution_count": null,
      "outputs": [
        {
          "output_type": "stream",
          "name": "stdout",
          "text": [
            "5\n",
            "1\n",
            "3\n",
            "4\n",
            "5\n",
            "2\n",
            "7\n",
            "2\n",
            "4\n",
            "3\n",
            "1\n",
            "7\n",
            "5\n",
            "15\n",
            "no\n"
          ]
        }
      ]
    },
    {
      "cell_type": "code",
      "source": [
        "#Find all symmeteric pairs from a pairs of an array"
      ],
      "metadata": {
        "id": "GErMuiv5ij7d"
      },
      "execution_count": null,
      "outputs": []
    },
    {
      "cell_type": "code",
      "source": [
        "a=[(1,2),(2,1),(3,4),(4,5),(5,4)]\n",
        "\n",
        "for i in range(len(a)):\n",
        "  for j in range(i+1,len(a)):\n",
        "    if set(a[i])==set(a[j]):\n",
        "      print(a[j])"
      ],
      "metadata": {
        "colab": {
          "base_uri": "https://localhost:8080/"
        },
        "id": "a_ZZegR8m4jz",
        "outputId": "074a7ae8-78bc-4980-a927-e94362fd2513"
      },
      "execution_count": null,
      "outputs": [
        {
          "output_type": "stream",
          "name": "stdout",
          "text": [
            "(2, 1)\n",
            "(5, 4)\n"
          ]
        }
      ]
    },
    {
      "cell_type": "code",
      "source": [
        "#Reverse an array"
      ],
      "metadata": {
        "id": "1x96dhH4ov81"
      },
      "execution_count": null,
      "outputs": []
    },
    {
      "cell_type": "code",
      "source": [
        "a=[]\n",
        "b=int(input())\n",
        "\n",
        "for i in range(b):\n",
        "  c=int(input())\n",
        "  a.append(c)\n",
        "\n",
        "reverse=a[::-1]\n",
        "print(reverse)"
      ],
      "metadata": {
        "colab": {
          "base_uri": "https://localhost:8080/"
        },
        "id": "Iu3Xvhz_qKvE",
        "outputId": "bf6f4f02-f141-4e0c-f14b-435d07a4df71"
      },
      "execution_count": null,
      "outputs": [
        {
          "output_type": "stream",
          "name": "stdout",
          "text": [
            "4\n",
            "1\n",
            "2\n",
            "3\n",
            "4\n",
            "[4, 3, 2, 1]\n"
          ]
        }
      ]
    },
    {
      "cell_type": "code",
      "source": [
        "#Reverse an string"
      ],
      "metadata": {
        "id": "fvKpWP-5rj1V"
      },
      "execution_count": null,
      "outputs": []
    },
    {
      "cell_type": "code",
      "source": [
        "a=input()\n",
        "b=a[::-1]\n",
        "print(b)"
      ],
      "metadata": {
        "colab": {
          "base_uri": "https://localhost:8080/"
        },
        "id": "bd8v523NrsRQ",
        "outputId": "ff6f2b79-eaa3-415b-e620-7b41249eca7b"
      },
      "execution_count": null,
      "outputs": [
        {
          "output_type": "stream",
          "name": "stdout",
          "text": [
            "tejas\n",
            "sajet\n"
          ]
        }
      ]
    },
    {
      "cell_type": "code",
      "source": [
        "#Mean and meadian of an unsorted array is"
      ],
      "metadata": {
        "id": "H9iO8oDCrz1g"
      },
      "execution_count": null,
      "outputs": []
    },
    {
      "cell_type": "code",
      "source": [
        "a=[]\n",
        "b=int(input())\n",
        "\n",
        "for i in range(b):\n",
        "  c=int(input())\n",
        "  a.append(c)\n",
        "\n",
        "sort=a.sort()\n",
        "if len(a)%2!=0:\n",
        "  mid=a[len(a)//2]\n",
        "else:\n",
        "  mid=(a[len(a)//2]+a[(len(a)//2)-1])/2\n",
        "print(mid)"
      ],
      "metadata": {
        "colab": {
          "base_uri": "https://localhost:8080/"
        },
        "id": "w179B1ElsNoK",
        "outputId": "60cd006a-5220-4b9f-c102-d9dfdf65d36c"
      },
      "execution_count": null,
      "outputs": [
        {
          "output_type": "stream",
          "name": "stdout",
          "text": [
            "5\n",
            "2\n",
            "4\n",
            "1\n",
            "3\n",
            "5\n",
            "3\n"
          ]
        }
      ]
    },
    {
      "cell_type": "code",
      "source": [
        "#smallest and second smallest elemets in an array"
      ],
      "metadata": {
        "id": "KS2ek9utugQS"
      },
      "execution_count": null,
      "outputs": []
    },
    {
      "cell_type": "code",
      "source": [
        "a=[]\n",
        "b=int(input())\n",
        "\n",
        "for i in range(b):\n",
        "  c=int(input())\n",
        "  a.append(c)\n",
        "\n",
        "a.sort()\n",
        "print(a[0],a[1])"
      ],
      "metadata": {
        "colab": {
          "base_uri": "https://localhost:8080/"
        },
        "id": "UdyiOb_Evq5O",
        "outputId": "90548deb-0722-4217-ff76-0448b568fffd"
      },
      "execution_count": null,
      "outputs": [
        {
          "output_type": "stream",
          "name": "stdout",
          "text": [
            "5\n",
            "55\n",
            "6\n",
            "3\n",
            "99\n",
            "1\n",
            "1 3\n"
          ]
        }
      ]
    },
    {
      "cell_type": "code",
      "source": [
        "#largest elemets in an array is :"
      ],
      "metadata": {
        "id": "dImF9QnIvyVF"
      },
      "execution_count": null,
      "outputs": []
    },
    {
      "cell_type": "code",
      "source": [
        "a=[]\n",
        "b=int(input())\n",
        "\n",
        "for i in range(b):\n",
        "  c=int(input())\n",
        "  a.append(c)\n",
        "\n",
        "print(max(a))"
      ],
      "metadata": {
        "colab": {
          "base_uri": "https://localhost:8080/"
        },
        "id": "xxBwvYWWwUGl",
        "outputId": "ed023616-ad5a-4d56-9c48-103d375ba77e"
      },
      "execution_count": null,
      "outputs": [
        {
          "output_type": "stream",
          "name": "stdout",
          "text": [
            "6\n",
            "99\n",
            "6\n",
            "6\n",
            "999\n",
            "456\n",
            "1\n",
            "999\n"
          ]
        }
      ]
    },
    {
      "cell_type": "code",
      "source": [
        "#Second largest elements in an array is :"
      ],
      "metadata": {
        "id": "-5J8shpt3ysw"
      },
      "execution_count": null,
      "outputs": []
    },
    {
      "cell_type": "code",
      "source": [
        "a=[]\n",
        "b=int(input())\n",
        "\n",
        "for i in range(b):\n",
        "  c=int(input())\n",
        "  a.append(c)\n",
        "a.sort()\n",
        "print(a[-2])"
      ],
      "metadata": {
        "colab": {
          "base_uri": "https://localhost:8080/"
        },
        "id": "drqNFyxD35jt",
        "outputId": "26156840-1b4e-4db2-cf58-bf6b375ca5ca"
      },
      "execution_count": null,
      "outputs": [
        {
          "output_type": "stream",
          "name": "stdout",
          "text": [
            "5\n",
            "65\n",
            "54\n",
            "22\n",
            "8\n",
            "659\n",
            "65\n"
          ]
        }
      ]
    },
    {
      "cell_type": "code",
      "source": [
        "#counting frequnecy of array elemets\n"
      ],
      "metadata": {
        "id": "v21azWFzwe2c"
      },
      "execution_count": null,
      "outputs": []
    },
    {
      "cell_type": "code",
      "source": [
        "a=[]\n",
        "b=int(input())\n",
        "\n",
        "for i in range(b):\n",
        "  c=int(input())\n",
        "  a.append(c)\n",
        "\n",
        "for i in set(a):\n",
        "  print(i,a.count(i))"
      ],
      "metadata": {
        "colab": {
          "base_uri": "https://localhost:8080/"
        },
        "id": "FE6chB-D4VEu",
        "outputId": "4ff32dbf-3e79-4421-e647-5271caeeaf8b"
      },
      "execution_count": null,
      "outputs": [
        {
          "output_type": "stream",
          "name": "stdout",
          "text": [
            "4\n",
            "1\n",
            "1\n",
            "2\n",
            "3\n",
            "1 2\n",
            "2 1\n",
            "3 1\n"
          ]
        }
      ]
    },
    {
      "cell_type": "code",
      "source": [
        "#program for addition of 2 matrices\n",
        "\n",
        "l1=[1,2,3,5]\n",
        "l2=[[5,4],[2,1]]\n",
        "for i in range(len(l1)):\n",
        "  print(l1[i]+l2[i])"
      ],
      "metadata": {
        "colab": {
          "base_uri": "https://localhost:8080/"
        },
        "id": "gZZhssyV4312",
        "outputId": "00806b7e-acb4-49e8-cf51-ffd6655cc9e0"
      },
      "execution_count": null,
      "outputs": [
        {
          "output_type": "stream",
          "name": "stdout",
          "text": [
            "6\n",
            "6\n",
            "5\n",
            "6\n"
          ]
        }
      ]
    },
    {
      "cell_type": "code",
      "source": [
        "l1=[[1,2],[3,5],[3,4]]\n",
        "l2=[[5,4],[2,1],[5,1]]\n",
        "for i in range(len(l2)):\n",
        "  for j in range(len(l2[i])):\n",
        "    print(l1[i][j],l2[i][j],l1[i][j]+l2[i][j])"
      ],
      "metadata": {
        "colab": {
          "base_uri": "https://localhost:8080/"
        },
        "id": "3bYmnEh-52Gf",
        "outputId": "df584624-243b-463a-e75f-ca3459d85d3a"
      },
      "execution_count": null,
      "outputs": [
        {
          "output_type": "stream",
          "name": "stdout",
          "text": [
            "1 5 6\n",
            "2 4 6\n",
            "3 2 5\n",
            "5 1 6\n",
            "3 5 8\n",
            "4 1 5\n"
          ]
        }
      ]
    },
    {
      "cell_type": "code",
      "source": [
        "l2=[[5,4,5],[2,1,3],[2,3,0]]\n",
        "for i in l2:\n",
        "  print(i)"
      ],
      "metadata": {
        "colab": {
          "base_uri": "https://localhost:8080/"
        },
        "id": "dxcC9eW66Mf9",
        "outputId": "9f2432b8-0751-46e9-b07a-7874f9c307f9"
      },
      "execution_count": null,
      "outputs": [
        {
          "output_type": "stream",
          "name": "stdout",
          "text": [
            "[5, 4, 5]\n",
            "[2, 1, 3]\n",
            "[2, 3, 0]\n"
          ]
        }
      ]
    },
    {
      "cell_type": "code",
      "source": [
        "#program to check array is sorted or not"
      ],
      "metadata": {
        "id": "Hj1H5Mox6SJQ"
      },
      "execution_count": null,
      "outputs": []
    },
    {
      "cell_type": "code",
      "source": [
        "a=[]\n",
        "b=int(input())\n",
        "\n",
        "for i in range(b):\n",
        "  c=int(input())\n",
        "  a.append(c)\n",
        "\n",
        "if a==sorted(a):\n",
        "  print(\"list is  sorted\")\n",
        "else:\n",
        "  print(\"list is not sorted\")"
      ],
      "metadata": {
        "colab": {
          "base_uri": "https://localhost:8080/"
        },
        "id": "yaczK_eA793n",
        "outputId": "15fe5c54-43d7-497d-dbb4-3ed0775093bf"
      },
      "execution_count": null,
      "outputs": [
        {
          "output_type": "stream",
          "name": "stdout",
          "text": [
            "4\n",
            "1\n",
            "2\n",
            "3\n",
            "4\n",
            "list is  sorted\n"
          ]
        }
      ]
    },
    {
      "cell_type": "code",
      "source": [
        "#Average of array with the help recursive"
      ],
      "metadata": {
        "id": "TkRtYN9H8hHG"
      },
      "execution_count": null,
      "outputs": []
    },
    {
      "cell_type": "code",
      "source": [
        "a=[]\n",
        "b=int(input())\n",
        "\n",
        "for i in range(b):\n",
        "  c=int(input())\n",
        "  a.append(c)\n",
        "s=0\n",
        "for i in range(len(a)):\n",
        "  s=s+a[i]\n",
        "print(s/len(a))"
      ],
      "metadata": {
        "colab": {
          "base_uri": "https://localhost:8080/"
        },
        "id": "u1ZHYH7B9IrD",
        "outputId": "4f26b75d-0704-489a-9e3e-0ddeaf015066"
      },
      "execution_count": null,
      "outputs": [
        {
          "output_type": "stream",
          "name": "stdout",
          "text": [
            "4\n",
            "1\n",
            "2\n",
            "3\n",
            "4\n",
            "2.5\n"
          ]
        }
      ]
    },
    {
      "cell_type": "code",
      "source": [
        "#counting frequency of array elemets"
      ],
      "metadata": {
        "id": "2iHK3B369i8M"
      },
      "execution_count": null,
      "outputs": []
    },
    {
      "cell_type": "code",
      "source": [
        "\n",
        "a=[]\n",
        "b=int(input())\n",
        "\n",
        "for i in range(b):\n",
        "  c=int(input())\n",
        "  a.append(c)\n",
        "\n",
        "for i in set(a):\n",
        "  print(i,a.count(i))"
      ],
      "metadata": {
        "colab": {
          "base_uri": "https://localhost:8080/"
        },
        "id": "ganFSokaF0sB",
        "outputId": "9bfb6f5d-a33a-4cb1-9424-e6dcb7017afb"
      },
      "execution_count": null,
      "outputs": [
        {
          "output_type": "stream",
          "name": "stdout",
          "text": [
            "4\n",
            "1\n",
            "2\n",
            "2\n",
            "3\n",
            "1 1\n",
            "2 2\n",
            "3 1\n"
          ]
        }
      ]
    },
    {
      "cell_type": "code",
      "source": [
        "#sum of elements in a given array"
      ],
      "metadata": {
        "id": "x6Gr5TeHGDW_"
      },
      "execution_count": null,
      "outputs": []
    },
    {
      "cell_type": "code",
      "source": [
        "a=[]\n",
        "b=int(input())\n",
        "\n",
        "for i in range(b):\n",
        "  c=int(input())\n",
        "  a.append(c)\n",
        "sum=0\n",
        "for i in range(len(a)):\n",
        "  sum=sum+a[i]\n",
        "print(sum)"
      ],
      "metadata": {
        "colab": {
          "base_uri": "https://localhost:8080/"
        },
        "id": "lSMmAeIeHq6f",
        "outputId": "25090037-ea20-441c-a00c-0da2c7f20261"
      },
      "execution_count": null,
      "outputs": [
        {
          "output_type": "stream",
          "name": "stdout",
          "text": [
            "4\n",
            "1\n",
            "2\n",
            "3\n",
            "4\n",
            "10\n"
          ]
        }
      ]
    },
    {
      "cell_type": "code",
      "source": [
        "#Remove duplicates from the sorted array"
      ],
      "metadata": {
        "id": "YMLUEyZ6H-JG"
      },
      "execution_count": null,
      "outputs": []
    },
    {
      "cell_type": "code",
      "source": [
        "a=[]\n",
        "b=int(input())\n",
        "\n",
        "for i in range(b):\n",
        "  c=int(input())\n",
        "  a.append(c)\n",
        "\n",
        "d=set(a)\n",
        "print(list(d))"
      ],
      "metadata": {
        "colab": {
          "base_uri": "https://localhost:8080/"
        },
        "id": "3QIe9erVIILH",
        "outputId": "0d1bdd4b-4c26-4482-b632-1f5af71915a4"
      },
      "execution_count": null,
      "outputs": [
        {
          "output_type": "stream",
          "name": "stdout",
          "text": [
            "4\n",
            "1\n",
            "1\n",
            "2\n",
            "2\n",
            "[1, 2]\n"
          ]
        }
      ]
    },
    {
      "cell_type": "code",
      "source": [
        "#Program to check array is sorted ot not"
      ],
      "metadata": {
        "id": "FbnrHJBLIdco"
      },
      "execution_count": null,
      "outputs": []
    },
    {
      "cell_type": "code",
      "source": [
        "a=[]\n",
        "b=int(input())\n",
        "\n",
        "for i in range(b):\n",
        "  c=int(input())\n",
        "  a.append(c)\n",
        "\n",
        "if a==sorted(a):\n",
        "  print(\"list is sorted\")\n",
        "else:\n",
        "  print(\"list is not sorted\")"
      ],
      "metadata": {
        "colab": {
          "base_uri": "https://localhost:8080/"
        },
        "id": "33WrM_gAI0U_",
        "outputId": "50c2221d-81b4-449b-a232-5643756824c6"
      },
      "execution_count": null,
      "outputs": [
        {
          "output_type": "stream",
          "name": "stdout",
          "text": [
            "4\n",
            "1\n",
            "3\n",
            "2\n",
            "4\n",
            "list is no sorted\n"
          ]
        }
      ]
    },
    {
      "cell_type": "code",
      "source": [
        "#Remove duplicates from an unsorted array using map data struture"
      ],
      "metadata": {
        "id": "0-IfJlQ2JGuo"
      },
      "execution_count": null,
      "outputs": []
    },
    {
      "cell_type": "code",
      "source": [
        "arr = [1,2,2,3,3]\n",
        "d  ={}\n",
        "\n",
        "for i in arr:\n",
        "  if i in d.keys():\n",
        "\n",
        "    d[i] = d[i]+1\n",
        "  else:\n",
        "    d[i]= 1\n",
        "list(d.keys())\n",
        "# for j in d:\n",
        "#   if d[j]>1:\n",
        "#     arr.remove(j)\n",
        "# arr\n",
        "\n",
        "\n"
      ],
      "metadata": {
        "colab": {
          "base_uri": "https://localhost:8080/"
        },
        "id": "xj37xtb_JeUh",
        "outputId": "c48a239f-3b68-4761-c1be-aedf39d9a63f"
      },
      "execution_count": null,
      "outputs": [
        {
          "output_type": "execute_result",
          "data": {
            "text/plain": [
              "[1, 2, 3]"
            ]
          },
          "metadata": {},
          "execution_count": 28
        }
      ]
    },
    {
      "cell_type": "code",
      "source": [
        "d ={12: 'th', 13:'th', 15 : 'th'}\n",
        "set(d.values())"
      ],
      "metadata": {
        "colab": {
          "base_uri": "https://localhost:8080/"
        },
        "id": "RH3LkWS5LVTr",
        "outputId": "d1d29559-f75d-4662-c113-7d05885c4fb1"
      },
      "execution_count": null,
      "outputs": [
        {
          "output_type": "execute_result",
          "data": {
            "text/plain": [
              "{'th'}"
            ]
          },
          "metadata": {},
          "execution_count": 14
        }
      ]
    },
    {
      "cell_type": "code",
      "source": [
        "a={}\n"
      ],
      "metadata": {
        "id": "V0QHrlGSMOtP"
      },
      "execution_count": null,
      "outputs": []
    },
    {
      "cell_type": "code",
      "source": [
        "#Block swap algorithm for array roatation"
      ],
      "metadata": {
        "id": "s1_-dXeCRh_O"
      },
      "execution_count": null,
      "outputs": []
    },
    {
      "cell_type": "code",
      "source": [
        "a=[]\n",
        "b=int(input())\n",
        "\n",
        "for i in range(b):\n",
        "  c=int(input())\n",
        "  a.append(c)\n",
        "\n",
        "k=int(input())\n",
        "s=input(\"enter the side \")\n",
        "\n",
        "if s=='r':\n",
        "  print(a[-k:] + a[:-k])\n",
        "else:\n",
        "  print(a[k:]+a[:k])"
      ],
      "metadata": {
        "id": "Ekmk_4HXR0EE"
      },
      "execution_count": null,
      "outputs": []
    },
    {
      "cell_type": "code",
      "source": [
        "#Find duplicates in 0(n) time and o(1)extra space\n",
        "def removeDuplicatesFromString(str2):\n",
        "\n",
        "    # keeps track of visited characters\n",
        "    counter = 0;\n",
        "\n",
        "    i = 0;\n",
        "    size = len(str2);\n",
        "    str1 = list(str2);\n",
        "\n",
        "    # gets character value\n",
        "    x = 0;\n",
        "\n",
        "    # keeps track of length of resultant string\n",
        "    length = 0;\n",
        "\n",
        "    while (i < size):\n",
        "        x = ord(str1[i]) - 97;\n",
        "\n",
        "        # check if Xth bit of counter is unset\n",
        "        if ((counter & (1 << x)) == 0):\n",
        "            str1[length] = chr(97 + x);\n",
        "\n",
        "            # mark current character as visited\n",
        "            counter = counter | (1 << x);\n",
        "\n",
        "            length += 1;\n",
        "        i += 1;\n",
        "\n",
        "    str2=''.join(str1);\n",
        "    return str2[0:length];\n",
        "\n",
        "# Driver code\n",
        "str1 = \"geeksforgeeks\";\n",
        "print(removeDuplicatesFromString(str1));\n"
      ],
      "metadata": {
        "colab": {
          "base_uri": "https://localhost:8080/"
        },
        "id": "xaV69khQicTq",
        "outputId": "49b3caf8-199a-437c-bb41-a5e923ea63f8"
      },
      "execution_count": null,
      "outputs": [
        {
          "output_type": "stream",
          "name": "stdout",
          "text": [
            "geksfor\n"
          ]
        }
      ]
    },
    {
      "cell_type": "code",
      "source": [
        "# sort an array according to the order defined by another array"
      ],
      "metadata": {
        "id": "vOUtcX9SlBRS"
      },
      "execution_count": null,
      "outputs": []
    },
    {
      "cell_type": "code",
      "source": [
        "l = []\n",
        "l_r = []\n",
        "for i in order:\n",
        "  for j in arr:\n",
        "    if i==j:\n",
        "      l.append(i)\n",
        "print(l)\n",
        "\n",
        "for i in arr:\n",
        "  if i not in l:\n",
        "    l_r.append(i)\n",
        "print(l+sorted(l_r))"
      ],
      "metadata": {
        "colab": {
          "base_uri": "https://localhost:8080/"
        },
        "id": "ukDqG8NnyNjn",
        "outputId": "e3a81016-7213-49e9-aec6-02d2be151985"
      },
      "execution_count": null,
      "outputs": [
        {
          "output_type": "stream",
          "name": "stdout",
          "text": [
            "[2, 2, 3, 5, 8, 8]\n",
            "[2, 2, 3, 5, 8, 8, 1, 1, 6, 7, 9]\n"
          ]
        }
      ]
    },
    {
      "cell_type": "code",
      "source": [
        "a=[]\n",
        "b=int(input(\"size1\"))\n",
        "for i in range(b):\n",
        "  c=int(input())\n",
        "  a.append(c)\n",
        "\n",
        "x=[]\n",
        "k=int(input(\"size2\"))\n",
        "\n",
        "for j in range(k):\n",
        "  d=int(input())\n",
        "  x.append(d)\n",
        "y=[]\n",
        "f=[]\n",
        "for i in range(len(x)):\n",
        "  for j in range(len(a)):\n",
        "    if x[i]==a[j]:\n",
        "      y.append(a[j])\n",
        "\n",
        "for i in range(len(a)):\n",
        "  if a[i] not in x:\n",
        "    f.append(a[i])\n",
        "y=y+sorted(f)\n",
        "print(y)\n",
        "\n",
        "\n"
      ],
      "metadata": {
        "colab": {
          "base_uri": "https://localhost:8080/"
        },
        "id": "udFADXBwumaJ",
        "outputId": "c74b219f-fb91-4a91-987d-d3b08a228184"
      },
      "execution_count": null,
      "outputs": [
        {
          "output_type": "stream",
          "name": "stdout",
          "text": [
            "size16\n",
            "4\n",
            "5\n",
            "1\n",
            "1\n",
            "3\n",
            "2\n",
            "size22\n",
            "3\n",
            "1\n",
            "[3, 1, 1, 2, 4, 5]\n"
          ]
        }
      ]
    },
    {
      "cell_type": "code",
      "source": [
        "#Find maximum stolen values from the house"
      ],
      "metadata": {
        "id": "4Z8_V9lHwxfk"
      },
      "execution_count": null,
      "outputs": []
    },
    {
      "cell_type": "code",
      "source": [
        "a=[6, 7, 1, 3, 8, 2, 4]\n",
        "\n",
        "for i in range(len(a)):\n",
        "  for j in range(i+1,len(a)):\n",
        "    previous=a[i]\n",
        "    current=a[j]\n",
        "    if previous>current:\n",
        "      a[i],a[j]=a[j],a[i]\n",
        "        print(i)\n",
        "\n"
      ],
      "metadata": {
        "colab": {
          "base_uri": "https://localhost:8080/",
          "height": 211
        },
        "id": "O-k0VUOpw5tP",
        "outputId": "f6e7af2e-98ff-4920-e5c7-904fd50fe7b1"
      },
      "execution_count": null,
      "outputs": [
        {
          "output_type": "error",
          "ename": "TypeError",
          "evalue": "'int' object is not subscriptable",
          "traceback": [
            "\u001b[0;31m---------------------------------------------------------------------------\u001b[0m",
            "\u001b[0;31mTypeError\u001b[0m                                 Traceback (most recent call last)",
            "\u001b[0;32m<ipython-input-83-a9dcb508fd66>\u001b[0m in \u001b[0;36m<cell line: 3>\u001b[0;34m()\u001b[0m\n\u001b[1;32m      4\u001b[0m   \u001b[0;32mfor\u001b[0m \u001b[0mj\u001b[0m \u001b[0;32min\u001b[0m \u001b[0mrange\u001b[0m\u001b[0;34m(\u001b[0m\u001b[0mi\u001b[0m\u001b[0;34m+\u001b[0m\u001b[0;36m1\u001b[0m\u001b[0;34m,\u001b[0m\u001b[0mlen\u001b[0m\u001b[0;34m(\u001b[0m\u001b[0ma\u001b[0m\u001b[0;34m)\u001b[0m\u001b[0;34m)\u001b[0m\u001b[0;34m:\u001b[0m\u001b[0;34m\u001b[0m\u001b[0;34m\u001b[0m\u001b[0m\n\u001b[1;32m      5\u001b[0m     \u001b[0msum\u001b[0m\u001b[0;34m=\u001b[0m\u001b[0;36m0\u001b[0m\u001b[0;34m\u001b[0m\u001b[0;34m\u001b[0m\u001b[0m\n\u001b[0;32m----> 6\u001b[0;31m     \u001b[0;32mif\u001b[0m \u001b[0;34m(\u001b[0m\u001b[0;34m(\u001b[0m\u001b[0mi\u001b[0m\u001b[0;34m[\u001b[0m\u001b[0mi\u001b[0m\u001b[0;34m]\u001b[0m\u001b[0;34m+\u001b[0m\u001b[0;36m1\u001b[0m\u001b[0;34m)\u001b[0m\u001b[0;34m*\u001b[0m\u001b[0mj\u001b[0m\u001b[0;34m)\u001b[0m\u001b[0;34m==\u001b[0m\u001b[0mmax\u001b[0m\u001b[0;34m(\u001b[0m\u001b[0ma\u001b[0m\u001b[0;34m)\u001b[0m\u001b[0;34m:\u001b[0m\u001b[0;34m\u001b[0m\u001b[0;34m\u001b[0m\u001b[0m\n\u001b[0m\u001b[1;32m      7\u001b[0m       \u001b[0mprint\u001b[0m\u001b[0;34m(\u001b[0m\u001b[0mi\u001b[0m\u001b[0;34m)\u001b[0m\u001b[0;34m\u001b[0m\u001b[0;34m\u001b[0m\u001b[0m\n\u001b[1;32m      8\u001b[0m \u001b[0;34m\u001b[0m\u001b[0m\n",
            "\u001b[0;31mTypeError\u001b[0m: 'int' object is not subscriptable"
          ]
        }
      ]
    },
    {
      "cell_type": "code",
      "source": [
        "a=[6, 7, 1, 3, 8, 2, 4]\n",
        "a1 = a.copy()\n",
        "l = []\n",
        "for i,v in enumerate(a):\n",
        "  if i !=0 or i != 0:\n",
        "    if v == max(a):\n",
        "      l.append(v)\n",
        "\n",
        "      a.remove(v)\n",
        "\n",
        "\n",
        "l,a"
      ],
      "metadata": {
        "colab": {
          "base_uri": "https://localhost:8080/"
        },
        "id": "GiIfoyF8-50X",
        "outputId": "01b6b84b-7bea-447c-8c70-291975f8e0f2"
      },
      "execution_count": null,
      "outputs": [
        {
          "output_type": "execute_result",
          "data": {
            "text/plain": [
              "([8], [6, 7, 1, 3, 2, 4])"
            ]
          },
          "metadata": {},
          "execution_count": 108
        }
      ]
    },
    {
      "cell_type": "markdown",
      "source": [
        "```\n",
        "Input: hval[] = {6, 7, 1, 3, 8, 2, 4}\n",
        "Output: 19\n",
        "Explanation: The thief will steal 6, 1, 8 and 4 from the house.\n",
        "\n",
        "Input: hval[] = {5, 3, 4, 11, 2}\n",
        "Output: 16\n",
        "Explanation: Thief will steal 5 and 11\n",
        "```"
      ],
      "metadata": {
        "id": "vQZJ2aRA9fBN"
      }
    },
    {
      "cell_type": "code",
      "source": [
        "# sort an array and print zeros at the end"
      ],
      "metadata": {
        "id": "t9xsRVYiGhJo"
      },
      "execution_count": null,
      "outputs": []
    },
    {
      "cell_type": "code",
      "source": [
        "a=[]\n",
        "b=int(input())\n",
        "\n",
        "for i in range(b):\n",
        "  c=int(input())\n",
        "  a.append(c)\n",
        "\n",
        "j=0\n",
        "\n",
        "for i in range(len(a)):\n",
        "  if a[i] !=0:\n",
        "    a[j], a[i]=a[i],a[j]\n",
        "    j=j+1\n",
        "print(a)\n",
        "\n"
      ],
      "metadata": {
        "colab": {
          "base_uri": "https://localhost:8080/"
        },
        "id": "oQZrActR4j9T",
        "outputId": "dd4ab083-87d4-4574-881d-3bb4ef7849be"
      },
      "execution_count": null,
      "outputs": [
        {
          "output_type": "stream",
          "name": "stdout",
          "text": [
            "5\n",
            "1\n",
            "0\n",
            "2\n",
            "0\n",
            "3\n",
            "[1, 2, 3, 0, 0]\n"
          ]
        }
      ]
    },
    {
      "cell_type": "code",
      "source": [
        "#Sort an array given order with another array"
      ],
      "metadata": {
        "id": "2U_Gdjqx5P3c"
      },
      "execution_count": null,
      "outputs": []
    },
    {
      "cell_type": "code",
      "source": [
        "a=[2,1,2,5,7,1,9,3,6,8,8]\n",
        "b=[2,1,8,3]\n",
        "c=[]\n",
        "\n",
        "for i in range(len(b)):\n",
        "  for j  in range(len(a)):\n",
        "    if b[i]==a[j]:\n",
        "      c.append(a[j])\n",
        "\n",
        "for i in range(len(a)):\n",
        "  if a[i] not in b:\n",
        "    c.append(a[i])\n",
        "\n",
        "print(c)\n",
        "\n"
      ],
      "metadata": {
        "colab": {
          "base_uri": "https://localhost:8080/"
        },
        "id": "EP5l5KOPqQ8-",
        "outputId": "e837f7be-175f-42ef-8503-515767cb4dbb"
      },
      "execution_count": null,
      "outputs": [
        {
          "output_type": "stream",
          "name": "stdout",
          "text": [
            "[2, 2, 1, 1, 8, 8, 3, 5, 7, 9, 6]\n"
          ]
        }
      ]
    },
    {
      "cell_type": "code",
      "source": [],
      "metadata": {
        "id": "i-1gXI6XsdcI"
      },
      "execution_count": null,
      "outputs": []
    }
  ]
}